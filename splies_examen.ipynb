{
 "cells": [
  {
   "cell_type": "markdown",
   "id": "0af02d8d",
   "metadata": {},
   "source": [
    "Dados los puntos (−1,1),(0,5),(1,3), se ha obtenido los splines cúbicos correspondientes. \n",
    "Sin embargo, al observar la figura, usted no se siente satisfecho con la pendiente resultante en el punto (x1,y1).\n",
    "Y decide intentar una modificación a las ecuaciones, tal que los splines sean tangentes a una pendiente deseada m\n",
    "en el punto (x1,y1)\n"
   ]
  }
 ],
 "metadata": {
  "language_info": {
   "name": "python"
  }
 },
 "nbformat": 4,
 "nbformat_minor": 5
}
