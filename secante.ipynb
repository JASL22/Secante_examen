{
 "cells": [
  {
   "cell_type": "markdown",
   "id": "0bb5f0b8",
   "metadata": {},
   "source": [
    "## El código funciona correctamente. Sin embargo, al depurarlo y profundizar en su ejecución, usted ha notado que el código realiza llamadas repetitivas e innecesarias. \n",
    "Esto se evidencia en la siguiente Figura:\n",
    "\n",
    "La variable i\n",
    " representa el número de invocaciones a la función. En el Ejemplo 1, se recalcula innecesariamente f(x=3)\n",
    " en las llamadas i=1,2,3,8\n",
    ". Lo mismo sucede en i=5,6,7,12\n",
    " para f(x=2.6)\n",
    ". Esto ocasiona que se realicen 25 llamadas a la función en el Ejemplo 1. "
   ]
  },
  {
   "cell_type": "code",
   "execution_count": null,
   "id": "6352f3c1",
   "metadata": {},
   "outputs": [
    {
     "name": "stdout",
     "output_type": "stream",
     "text": [
      "Llamada i=1\t x=2.00000\t y=-5.00\n",
      "Llamada i=2\t x=3.00000\t y=-7.00\n",
      "Llamada i=3\t x=-0.50000\t y=0.00\n",
      "\n",
      "Resultado: x ≈ -0.500000 en 1 iteraciones\n"
     ]
    }
   ],
   "source": [
    "from math import sin\n",
    "def secant_method(f, x0, x1, tol=1e-6, max_iter=100):\n",
    "    x_prev = x0\n",
    "    x_curr = x1\n",
    "    f_prev = f(x_prev)\n",
    "    f_curr = f(x_curr)\n",
    "    iter_count = 0\n",
    "    while abs(f_curr) > tol and iter_count < max_iter:\n",
    "        denominator = f_curr - f_prev\n",
    "        if denominator == 0:\n",
    "            print(\"Denominador cero. Método detenido.\")\n",
    "            break\n",
    "\n",
    "        x_next = x_curr - f_curr * (x_curr - x_prev) / denominator\n",
    "\n",
    "        x_prev = x_curr\n",
    "        f_prev = f_curr\n",
    "        x_curr = x_next\n",
    "        f_curr = f(x_curr)\n",
    "\n",
    "        iter_count += 1\n",
    "\n",
    "    return x_curr, iter_count\n",
    "\n",
    "i = 0\n",
    "\n",
    "def func(x):\n",
    "    global i\n",
    "    i += 1\n",
    "    y = x*3 - 3 * x*2 + x - 1\n",
    "    print(f\"Llamada i={i}\\t x={x:.5f}\\t y={y:.2f}\")\n",
    "    return y\n",
    "\n",
    "resultado, iteraciones = secant_method(func, x0=2, x1=3)\n",
    "print(f\"\\nResultado: x ≈ {resultado:.6f} en {iteraciones} iteraciones\")"
   ]
  }
 ],
 "metadata": {
  "kernelspec": {
   "display_name": "base",
   "language": "python",
   "name": "python3"
  },
  "language_info": {
   "codemirror_mode": {
    "name": "ipython",
    "version": 3
   },
   "file_extension": ".py",
   "mimetype": "text/x-python",
   "name": "python",
   "nbconvert_exporter": "python",
   "pygments_lexer": "ipython3",
   "version": "3.12.7"
  }
 },
 "nbformat": 4,
 "nbformat_minor": 5
}
