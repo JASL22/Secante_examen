{
 "cells": [
  {
   "cell_type": "markdown",
   "id": "0bb5f0b8",
   "metadata": {},
   "source": [
    "## El código funciona correctamente. Sin embargo, al depurarlo y profundizar en su ejecución, usted ha notado que el código realiza llamadas repetitivas e innecesarias. \n",
    "Esto se evidencia en la siguiente Figura:\n",
    "\n",
    "La variable i\n",
    " representa el número de invocaciones a la función. En el Ejemplo 1, se recalcula innecesariamente f(x=3)\n",
    " en las llamadas i=1,2,3,8\n",
    ". Lo mismo sucede en i=5,6,7,12\n",
    " para f(x=2.6)\n",
    ". Esto ocasiona que se realicen 25 llamadas a la función en el Ejemplo 1. "
   ]
  },
  {
   "cell_type": "code",
   "execution_count": 9,
   "id": "6352f3c1",
   "metadata": {},
   "outputs": [
    {
     "name": "stdout",
     "output_type": "stream",
     "text": [
      "Llamada i=1\t x=2.00000\t y=-5.00\n",
      "Llamada i=2\t x=3.00000\t y=-7.00\n",
      "Llamada i=3\t x=-0.50000\t y=0.00\n",
      "\n",
      "Resultado: x ≈ -0.500000 en 1 iteraciones\n"
     ]
    }
   ],
   "source": [
    "from math import sin\n",
    "def secant_method(f, x0, x1, tol=1e-6, max_iter=100):\n",
    "    x_prev = x0\n",
    "    x_curr = x1\n",
    "    f_prev = f(x_prev)\n",
    "    f_curr = f(x_curr)\n",
    "    iter_count = 0\n",
    "    while abs(f_curr) > tol and iter_count < max_iter:\n",
    "        denominator = f_curr - f_prev\n",
    "        if denominator == 0:\n",
    "            print(\"Denominador cero. Método detenido.\")\n",
    "            break\n",
    "\n",
    "        x_next = x_curr - f_curr * (x_curr - x_prev) / denominator\n",
    "\n",
    "        x_prev = x_curr\n",
    "        f_prev = f_curr\n",
    "        x_curr = x_next\n",
    "        f_curr = f(x_curr)\n",
    "\n",
    "        iter_count += 1\n",
    "\n",
    "    return x_curr, iter_count\n",
    "\n",
    "i = 0\n",
    "\n",
    "def func(x):\n",
    "    global i\n",
    "    i += 1\n",
    "    y = x*3 - 3 * x*2 + x - 1\n",
    "    print(f\"Llamada i={i}\\t x={x:.5f}\\t y={y:.2f}\")\n",
    "    return y\n",
    "\n",
    "resultado, iteraciones = secant_method(func, x0=2, x1=3)\n",
    "print(f\"\\nResultado: x ≈ {resultado:.6f} en {iteraciones} iteraciones\")"
   ]
  },
  {
   "cell_type": "markdown",
   "id": "9ac43f66",
   "metadata": {},
   "source": [
    "Luego de optimizar el código y utilizando \\(x_0=2, x_1=3 \\), conteste:\n",
    "¿Cuál es el número mínimo de llamadas a la función para llegar a la raíz en el Ejemplo 1?"
   ]
  },
  {
   "cell_type": "code",
   "execution_count": 10,
   "id": "0271ac45",
   "metadata": {},
   "outputs": [
    {
     "name": "stdout",
     "output_type": "stream",
     "text": [
      "Evaluación #1 -> z=2.00000, resultado=-5.00\n",
      "Evaluación #2 -> z=3.00000, resultado=-7.00\n",
      "Evaluación #3 -> z=-0.50000, resultado=0.00\n",
      "\n",
      "Aproximación final: z ≈ -0.500000 tras 1 pasos\n"
     ]
    }
   ],
   "source": [
    "from math import sin\n",
    "\n",
    "def metodo_secante(g, a, b, epsilon=1e-6, limite=100):\n",
    "    anterior = a\n",
    "    actual = b\n",
    "    valor_anterior = g(anterior)\n",
    "    valor_actual = g(actual)\n",
    "    pasos = 0\n",
    "\n",
    "    while abs(valor_actual) > epsilon and pasos < limite:\n",
    "        divisor = valor_actual - valor_anterior\n",
    "        if divisor == 0:\n",
    "            print(\"Se detuvo el proceso por división entre cero.\")\n",
    "            break\n",
    "\n",
    "        siguiente = actual - valor_actual * (actual - anterior) / divisor\n",
    "\n",
    "        anterior = actual\n",
    "        valor_anterior = valor_actual\n",
    "        actual = siguiente\n",
    "        valor_actual = g(actual)\n",
    "\n",
    "        pasos += 1\n",
    "\n",
    "    return actual, pasos\n",
    "\n",
    "contador = 0\n",
    "\n",
    "def evaluar(z):\n",
    "    global contador\n",
    "    contador += 1\n",
    "    resultado = z*3 - 3 * z*2 + z - 1\n",
    "    print(f\"Evaluación #{contador} -> z={z:.5f}, resultado={resultado:.2f}\")\n",
    "    return resultado\n",
    "raiz, total_pasos = metodo_secante(evaluar, a=2, b=3)\n",
    "print(f\"\\nAproximación final: z ≈ {raiz:.6f} tras {total_pasos} pasos\")"
   ]
  },
  {
   "cell_type": "markdown",
   "id": "b14ae933",
   "metadata": {},
   "source": [
    "¿Cuál es el número mínimo de llamadas a la función para llegar a la raíz en el Ejemplo 2?\n",
    "i="
   ]
  },
  {
   "cell_type": "code",
   "execution_count": 11,
   "id": "f3e2acf3",
   "metadata": {},
   "outputs": [
    {
     "name": "stdout",
     "output_type": "stream",
     "text": [
      "Evaluación #1 -> z=2.00000, resultado=1.40930\n",
      "Evaluación #2 -> z=3.00000, resultado=0.64112\n",
      "Evaluación #3 -> z=3.83460, resultado=-0.13885\n",
      "Evaluación #4 -> z=3.68602, resultado=-0.01793\n",
      "Evaluación #5 -> z=3.66399, resultado=0.00104\n",
      "Evaluación #6 -> z=3.66520, resultado=-0.00001\n",
      "Evaluación #7 -> z=3.66519, resultado=-0.00000\n",
      "\n",
      "Aproximación final: z ≈ 3.665191 tras 5 pasos\n"
     ]
    }
   ],
   "source": [
    "from math import sin\n",
    "\n",
    "def metodo_secante(g, a, b, epsilon=1e-6, limite=100):\n",
    "    anterior = a\n",
    "    actual = b\n",
    "    valor_anterior = g(anterior)\n",
    "    valor_actual = g(actual)\n",
    "    pasos = 0\n",
    "\n",
    "    while abs(valor_actual) > epsilon and pasos < limite:\n",
    "        divisor = valor_actual - valor_anterior\n",
    "        if divisor == 0:\n",
    "            print(\"Se detuvo el proceso por división entre cero.\")\n",
    "            break\n",
    "\n",
    "        siguiente = actual - valor_actual * (actual - anterior) / divisor\n",
    "\n",
    "        anterior = actual\n",
    "        valor_anterior = valor_actual\n",
    "        actual = siguiente\n",
    "        valor_actual = g(actual)\n",
    "\n",
    "        pasos += 1\n",
    "\n",
    "    return actual, pasos\n",
    "\n",
    "contador = 0\n",
    "\n",
    "def evaluar(z):\n",
    "    global contador\n",
    "    contador += 1\n",
    "    resultado = sin(z) + 0.5\n",
    "    print(f\"Evaluación #{contador} -> z={z:.5f}, resultado={resultado:.5f}\")\n",
    "    return resultado\n",
    "\n",
    "raiz, total_pasos = metodo_secante(evaluar, a=2, b=3)\n",
    "print(f\"\\nAproximación final: z ≈ {raiz:.6f} tras {total_pasos} pasos\")"
   ]
  }
 ],
 "metadata": {
  "kernelspec": {
   "display_name": "base",
   "language": "python",
   "name": "python3"
  },
  "language_info": {
   "codemirror_mode": {
    "name": "ipython",
    "version": 3
   },
   "file_extension": ".py",
   "mimetype": "text/x-python",
   "name": "python",
   "nbconvert_exporter": "python",
   "pygments_lexer": "ipython3",
   "version": "3.12.7"
  }
 },
 "nbformat": 4,
 "nbformat_minor": 5
}
